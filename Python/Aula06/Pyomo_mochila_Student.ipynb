{
  "nbformat": 4,
  "nbformat_minor": 0,
  "metadata": {
    "colab": {
      "provenance": []
    },
    "kernelspec": {
      "name": "python3",
      "display_name": "Python 3"
    },
    "language_info": {
      "name": "python"
    }
  },
  "cells": [
    {
      "cell_type": "code",
      "source": [
        "%%capture\n",
        "!pip install -q pyomo\n",
        "!apt-get install -y -qq glpk-utils\n",
        "\n",
        "import pyomo.environ as pyEnv"
      ],
      "metadata": {
        "id": "5xUxC33SNR8h"
      },
      "execution_count": null,
      "outputs": []
    },
    {
      "cell_type": "code",
      "execution_count": null,
      "metadata": {
        "id": "x85uzt78MwIz"
      },
      "outputs": [],
      "source": [
        "##−−−−−−−−−−−−−−−−−−−−−−−DADOS−−−−−−−−−−−−−−−−−−−−−−−−−−−−−##\n",
        "lucros = [ 92 , 57 , 49 , 68 , 60 , 43 , 67 , 84 , 87 , 72]\n",
        "pesos = [ 23 , 31 , 29 , 44 , 53 , 38 , 63 , 85 , 89 , 82]\n",
        "capacidade = 165\n",
        "m = len(lucros)"
      ]
    },
    {
      "cell_type": "markdown",
      "source": [
        "$$ Max z = \\sum_i Lucros_i*x_i $$\n",
        "\n",
        "s.a.\n",
        "\n",
        "$$ \\sum_i pesos_i*x_i \\le capacidade$$\n",
        "$$ x_i \\in \\{0,1\\}$$"
      ],
      "metadata": {
        "id": "K32O5v4nxgBI"
      }
    }
  ]
}