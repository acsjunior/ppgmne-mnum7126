{
  "nbformat": 4,
  "nbformat_minor": 0,
  "metadata": {
    "colab": {
      "provenance": []
    },
    "kernelspec": {
      "name": "python3",
      "display_name": "Python 3"
    },
    "language_info": {
      "name": "python"
    }
  },
  "cells": [
    {
      "cell_type": "code",
      "execution_count": 1,
      "metadata": {
        "id": "UtP3GfxjELOG"
      },
      "outputs": [],
      "source": [
        "%%capture\n",
        "!pip install -q pyomo\n",
        "!apt-get install -y -qq glpk-utils"
      ]
    },
    {
      "cell_type": "code",
      "source": [
        "from pyomo.environ import *\n",
        "import numpy as np\n",
        "\n",
        "# enter data as numpy arrays\n",
        "A = np.array([[1, 0], [1, 1],[2,1]])\n",
        "b = np.array([40, 80,100])\n",
        "c = np.array([40,30])\n",
        "\n",
        "# set of row indices\n",
        "I = range(len(A))\n",
        "print(I)\n",
        "\n",
        "# set of column indices\n",
        "J = range(len(A.T))\n",
        "print(J)"
      ],
      "metadata": {
        "id": "QovtZDYCENuo",
        "colab": {
          "base_uri": "https://localhost:8080/"
        },
        "outputId": "1b292908-1e7c-4dc3-aca4-68171c1e2b00"
      },
      "execution_count": 2,
      "outputs": [
        {
          "output_type": "stream",
          "name": "stdout",
          "text": [
            "range(0, 3)\n",
            "range(0, 2)\n"
          ]
        }
      ]
    }
  ]
}