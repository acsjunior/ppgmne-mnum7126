{
  "cells": [
    {
      "cell_type": "code",
      "execution_count": 4,
      "metadata": {
        "id": "GJyY2HVcAqZt"
      },
      "outputs": [],
      "source": [
        "import pyomo.environ as pyo"
      ]
    },
    {
      "attachments": {},
      "cell_type": "markdown",
      "metadata": {
        "id": "vfBA6yKRBoCa"
      },
      "source": [
        "## Primeiro Modelo\n",
        "\n",
        "$$max \\; Z = 40 x + 30 y$$\n",
        "S.a.\n",
        "$$ x \\le 40 $$\n",
        "$$ x + y \\le 80 $$\n",
        "$$ 2x + y \\le 100 $$\n",
        "$$ x,y \\ge 0$$"
      ]
    },
    {
      "cell_type": "code",
      "execution_count": 5,
      "metadata": {},
      "outputs": [],
      "source": [
        "# Dados de entrada:\n",
        "\n",
        "c = [40, 30]\n",
        "a = [[1, 0], [1, 1], [2, 1]]\n",
        "b = [40, 80, 100]"
      ]
    },
    {
      "cell_type": "code",
      "execution_count": 6,
      "metadata": {},
      "outputs": [],
      "source": [
        "# Declaração do modelo concreto:\n",
        "\n",
        "model = pyo.ConcreteModel()"
      ]
    },
    {
      "cell_type": "code",
      "execution_count": 7,
      "metadata": {},
      "outputs": [],
      "source": [
        "# Conjuntos:\n",
        "\n",
        "model.m = range(len(a))\n",
        "model.n = range(len(a[0][:]))"
      ]
    },
    {
      "cell_type": "code",
      "execution_count": 8,
      "metadata": {},
      "outputs": [],
      "source": [
        "# Parâmetros:\n",
        "\n",
        "model.c = pyo.Param(model.n, initialize=lambda model, j: c[j])\n",
        "model.a = pyo.Param(model.m, model.n, initialize=lambda model, i, j: a[i][j])\n",
        "model.b = pyo.Param(model.m, initialize=lambda model, i: b[i])"
      ]
    },
    {
      "cell_type": "code",
      "execution_count": 9,
      "metadata": {},
      "outputs": [],
      "source": [
        "# Variáveis de decisão:\n",
        "\n",
        "model.x = pyo.Var(model.n, within=pyo.NonNegativeReals)"
      ]
    },
    {
      "cell_type": "code",
      "execution_count": 10,
      "metadata": {},
      "outputs": [],
      "source": [
        "# Função objetivo:\n",
        "\n",
        "def f_obj(modelo):\n",
        "    return pyo.summation(modelo.c, modelo.x)\n",
        "\n",
        "model.z = pyo.Objective(rule=f_obj, sense=pyo.maximize)"
      ]
    },
    {
      "cell_type": "code",
      "execution_count": 11,
      "metadata": {},
      "outputs": [],
      "source": [
        "# Restrições:\n",
        "\n",
        "def f_constr(modelo, i):\n",
        "    return sum(modelo.a[i,j] * modelo.x[j] for j in modelo.n) <= modelo.b[i]\n",
        "\n",
        "model.restricoes = pyo.Constraint(model.m, rule=f_constr)"
      ]
    },
    {
      "cell_type": "code",
      "execution_count": 15,
      "metadata": {},
      "outputs": [
        {
          "name": "stdout",
          "output_type": "stream",
          "text": [
            "# ==========================================================\n",
            "# = Solver Results                                         =\n",
            "# ==========================================================\n",
            "# ----------------------------------------------------------\n",
            "#   Problem Information\n",
            "# ----------------------------------------------------------\n",
            "Problem: \n",
            "- Name: x3\n",
            "  Lower bound: 2600.0\n",
            "  Upper bound: 2600.0\n",
            "  Number of objectives: 1\n",
            "  Number of constraints: 4\n",
            "  Number of variables: 3\n",
            "  Number of binary variables: 0\n",
            "  Number of integer variables: 0\n",
            "  Number of continuous variables: 3\n",
            "  Number of nonzeros: 6\n",
            "  Sense: maximize\n",
            "# ----------------------------------------------------------\n",
            "#   Solver Information\n",
            "# ----------------------------------------------------------\n",
            "Solver: \n",
            "- Status: ok\n",
            "  Return code: 0\n",
            "  Message: Model was solved to optimality (subject to tolerances), and an optimal solution is available.\n",
            "  Termination condition: optimal\n",
            "  Termination message: Model was solved to optimality (subject to tolerances), and an optimal solution is available.\n",
            "  Wall time: 0.005879878997802734\n",
            "  Error rc: 0\n",
            "  Time: 0.11322188377380371\n",
            "# ----------------------------------------------------------\n",
            "#   Solution Information\n",
            "# ----------------------------------------------------------\n",
            "Solution: \n",
            "- number of solutions: 0\n",
            "  number of solutions displayed: 0\n"
          ]
        }
      ],
      "source": [
        "# Resultado:\n",
        "\n",
        "resultado = pyo.SolverFactory('gurobi').solve(model)\n",
        "\n",
        "resultado.write()"
      ]
    },
    {
      "cell_type": "code",
      "execution_count": 23,
      "metadata": {},
      "outputs": [
        {
          "name": "stdout",
          "output_type": "stream",
          "text": [
            "x : Size=2, Index=x_index\n",
            "    Key : Lower : Value : Upper : Fixed : Stale : Domain\n",
            "      0 :     0 :  20.0 :  None : False : False : NonNegativeReals\n",
            "      1 :     0 :  60.0 :  None : False : False : NonNegativeReals\n"
          ]
        }
      ],
      "source": [
        "model.x.pprint()"
      ]
    },
    {
      "cell_type": "code",
      "execution_count": 20,
      "metadata": {},
      "outputs": [
        {
          "data": {
            "text/plain": [
              "2600.0"
            ]
          },
          "execution_count": 20,
          "metadata": {},
          "output_type": "execute_result"
        }
      ],
      "source": [
        "model.z()"
      ]
    }
  ],
  "metadata": {
    "colab": {
      "provenance": []
    },
    "kernelspec": {
      "display_name": "Python 3",
      "name": "python3"
    },
    "language_info": {
      "codemirror_mode": {
        "name": "ipython",
        "version": 3
      },
      "file_extension": ".py",
      "mimetype": "text/x-python",
      "name": "python",
      "nbconvert_exporter": "python",
      "pygments_lexer": "ipython3",
      "version": "3.9.13"
    }
  },
  "nbformat": 4,
  "nbformat_minor": 0
}
