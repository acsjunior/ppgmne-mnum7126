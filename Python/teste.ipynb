{
 "cells": [
  {
   "cell_type": "code",
   "execution_count": 1,
   "metadata": {},
   "outputs": [],
   "source": [
    "import requests\n",
    "from bs4 import BeautifulSoup\n",
    "import pandas as pd\n",
    "import urllib.request\n",
    "import gzip"
   ]
  },
  {
   "cell_type": "code",
   "execution_count": 3,
   "metadata": {},
   "outputs": [
    {
     "name": "stdout",
     "output_type": "stream",
     "text": [
      "Erro ao processar o arquivo listings.csv.gz: 'ascii' codec can't encode character '\\xf3' in position 25: ordinal not in range(128)\n"
     ]
    }
   ],
   "source": [
    "import pandas as pd\n",
    "import requests\n",
    "import urllib.request\n",
    "import gzip\n",
    "\n",
    "url = 'http://insideairbnb.com/get-the-data/'\n",
    "response = requests.get(url)\n",
    "html = response.content\n",
    "\n",
    "soup = BeautifulSoup(html, 'html.parser')\n",
    "\n",
    "# Encontre todas as tags <a> que contêm o link para download\n",
    "download_links = soup.find_all('a', href=True)\n",
    "\n",
    "# Filtrar apenas os links que contêm 'listings.csv.gz'\n",
    "listings_links = [link['href'] for link in download_links if 'listings.csv.gz' in link['href']]\n",
    "\n",
    "# Lista para armazenar os DataFrames de cada arquivo\n",
    "dfs = []\n",
    "\n",
    "for link in listings_links:\n",
    "    try:\n",
    "        # Fazer o download do arquivo listings.csv.gz\n",
    "        filename = link.split('/')[-1]\n",
    "        urllib.request.urlretrieve(link, filename)\n",
    "\n",
    "        # Descompactar o arquivo .gz\n",
    "        with gzip.open(filename, 'rb') as f_in:\n",
    "            with open(filename[:-3], 'wb') as f_out:\n",
    "                f_out.write(f_in.read())\n",
    "\n",
    "        # Carregar o arquivo em um DataFrame e adicionar à lista de DataFrames\n",
    "        df = pd.read_csv(filename[:-3])\n",
    "        dfs.appe    nd(df)\n",
    "        \n",
    "    except Exception as e:\n",
    "        print(f\"Erro ao processar o arquivo {filename}: {e}\")\n",
    "\n",
    "# Concatenar todos os DataFrames em um único DataFrame\n",
    "df_concatenated = pd.concat(dfs, ignore_index=True)"
   ]
  },
  {
   "cell_type": "code",
   "execution_count": null,
   "metadata": {},
   "outputs": [],
   "source": []
  },
  {
   "cell_type": "code",
   "execution_count": null,
   "metadata": {},
   "outputs": [],
   "source": []
  },
  {
   "cell_type": "code",
   "execution_count": null,
   "metadata": {},
   "outputs": [],
   "source": []
  },
  {
   "cell_type": "code",
   "execution_count": null,
   "metadata": {},
   "outputs": [],
   "source": []
  }
 ],
 "metadata": {
  "kernelspec": {
   "display_name": "Python 3",
   "language": "python",
   "name": "python3"
  },
  "language_info": {
   "codemirror_mode": {
    "name": "ipython",
    "version": 3
   },
   "file_extension": ".py",
   "mimetype": "text/x-python",
   "name": "python",
   "nbconvert_exporter": "python",
   "pygments_lexer": "ipython3",
   "version": "3.9.13"
  },
  "orig_nbformat": 4
 },
 "nbformat": 4,
 "nbformat_minor": 2
}
