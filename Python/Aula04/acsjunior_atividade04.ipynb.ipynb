{
 "cells": [
  {
   "attachments": {},
   "cell_type": "markdown",
   "metadata": {},
   "source": [
    "# Atividade 04\n",
    "António C. da Silva Júnior\n",
    "\n",
    "<hr>"
   ]
  },
  {
   "attachments": {},
   "cell_type": "markdown",
   "metadata": {},
   "source": [
    "## Assuntos abordados:\n",
    "\n",
    "* Resolução de sistemas lineares\n",
    "* Autovalores e autovetores\n",
    "* Métodos de decomposição\n",
    "\n",
    "<hr>"
   ]
  },
  {
   "attachments": {},
   "cell_type": "markdown",
   "metadata": {},
   "source": [
    "## Resolução de sistemas lineares\n",
    "\n",
    "### Introdução\n",
    "\n",
    "Um sistema linear é um conjunto de equações matemáticas que possuem as mesmas variáveis desconhecidas, também chamadas de incógnitas. Cada equação no sistema fornece uma informação sobre como essas variáveis estão relacionadas. O objetivo é encontrar os valores das incógnitas que satisfaçam todas as equações simultaneamente. \n",
    "\n",
    "A forma geral de um sistema linear pode ser representada pela equação $\\mathbf{Ax} = \\mathbf{b}$, onde:\n",
    "\n",
    "* $\\mathbf{A}$ é a matriz de coeficientes, que contém os coeficientes das incógnitas em cada equação do sistema;\n",
    "* $\\mathbf{x}$ é o vetor de incógnitas, que representa as variáveis desconhecidas que estamos tentando encontrar;\n",
    "* $\\mathbf{b}$ é o vetor de constantes, que contém os termos independentes de cada equação.\n",
    "\n",
    "Vamos exemplificar com um sistema linear de duas equações e duas incógnitas:\n",
    "\n",
    "\\begin{array}{lcl} \n",
    "    a_{11}x_1 + a_{12}x_2 & = & b_1 \\\\ \n",
    "    a_{21}x_1 + a_{22}x_2 & = & b_2\n",
    "\\end{array}\n",
    "\n",
    "Nesse caso, a matriz de coeficientes \\mathbf{A} seria:\n",
    "\n",
    "$$\n",
    "\\mathbf{A} = \\begin{bmatrix}\n",
    "a_{11} & a_{12} \\\\ \n",
    "a_{21} & a_{22}\n",
    "\\end{bmatrix}\n",
    "$$\n",
    "\n",
    "O vetor de incógnitas \\mathbf{x} seria:\n",
    "\n",
    "$$\n",
    "\\mathbf{x} = \\begin{bmatrix}\n",
    "x_{1} & x_{2}\n",
    "\\end{bmatrix}\n",
    "$$\n",
    "\n",
    "E o vetor de constantes \\mathbf{b} seria:\n",
    "\n",
    "$$\n",
    "\\mathbf{b} = \\begin{bmatrix}\n",
    "b_{1} \\\\\n",
    "b_{2}\n",
    "\\end{bmatrix}\n",
    "$$\n",
    "\n",
    "Os Sistemas Lineares são amplamente utilizados na matemática e em diversas áreas da ciência e engenharia para para modelar situações do mundo real, como sistemas elétricos, redes de transporte, processos químicos, entre outros. a resolução de sistemas lineares permite encontrar as soluções desses problemas e obter informações valiosas sobre as quantidades desconhecidas envolvidas.\n"
   ]
  },
  {
   "attachments": {},
   "cell_type": "markdown",
   "metadata": {},
   "source": [
    "### Resolvendo um sistema lineares com Numpy\n",
    "\n",
    "1. Importe a biblioteca NumPy."
   ]
  },
  {
   "cell_type": "code",
   "execution_count": 1,
   "metadata": {},
   "outputs": [],
   "source": [
    "import numpy as np"
   ]
  },
  {
   "attachments": {},
   "cell_type": "markdown",
   "metadata": {},
   "source": [
    "2. Defina a matriz de coeficientes A e o vetor de constantes b. Por exemplo:"
   ]
  },
  {
   "cell_type": "code",
   "execution_count": 2,
   "metadata": {},
   "outputs": [],
   "source": [
    "A = np.array([[2, 1], [1, -1]])\n",
    "b = np.array([1, 3])"
   ]
  },
  {
   "attachments": {},
   "cell_type": "markdown",
   "metadata": {},
   "source": [
    "Neste exemplo, temos um sistema com duas equações e duas incógnitas.\n",
    "\n",
    "3. Use a função ```np.linalg.solve()``` para resolver o sistema. Ela recebe a matriz de coeficientes A e o vetor de constantes b como argumentos e retorna o vetor de soluções x:"
   ]
  },
  {
   "cell_type": "code",
   "execution_count": 3,
   "metadata": {},
   "outputs": [],
   "source": [
    "x = np.linalg.solve(A, b)"
   ]
  },
  {
   "attachments": {},
   "cell_type": "markdown",
   "metadata": {},
   "source": [
    "4. Imprima o vetor de soluções $\\mathbf{x}$ para obter os valores das incógnitas:"
   ]
  },
  {
   "cell_type": "code",
   "execution_count": 4,
   "metadata": {},
   "outputs": [
    {
     "name": "stdout",
     "output_type": "stream",
     "text": [
      "[ 1.33333333 -1.66666667]\n"
     ]
    }
   ],
   "source": [
    "print(x)"
   ]
  },
  {
   "attachments": {},
   "cell_type": "markdown",
   "metadata": {},
   "source": [
    "<hr>\n",
    "\n",
    "## Autovalores e autovetores\n",
    "\n",
    "### Introdução\n",
    "\n",
    "Autovalores e autovetores são conceitos importantes na álgebra linear. Ao multiplicar uma matriz por um vetor, podemos obter um novo vetor que é apenas uma versão escalada do vetor original. Os autovalores representam essas escalas, enquanto os autovetores são os vetores que permanecem na mesma direção após a multiplicação.\n",
    "\n",
    "Vamos exemplificar:\n",
    "\n",
    "$$\\mathbf{Av} = \\mathbf{\\lambda v} \\text{,}$$\n",
    "\n",
    "em que $\\mathbf{A}$ é a matriz original, $\\mathbf{v}$ é o autovetor e $\\mathbf{\\lambda}$ é o autovalor correspondente. Observe que $\\mathbf{\\lambda}$ representa a escala pela qual o autovetor é multiplicado.\n",
    "\n",
    "Para encontrar os autovalores e autovetores, precisamos resolver a equação característica $\\det(\\mathbf{A} - \\mathbf{\\lambda I}) = 0$, em que $\\det$ é o determinante da matriz. $\\mathbf{A}$ é a matriz original, $\\mathbf{\\lambda}$ é o autovalor desconhecido e $\\mathbf{I}$ é a matriz identidade. "
   ]
  },
  {
   "attachments": {},
   "cell_type": "markdown",
   "metadata": {},
   "source": [
    "### Calculando autovalores e autovetores com Numpy\n",
    "\n",
    "1. Importe a biblioteca NumPy."
   ]
  },
  {
   "cell_type": "code",
   "execution_count": 5,
   "metadata": {},
   "outputs": [],
   "source": [
    "import numpy as np"
   ]
  },
  {
   "attachments": {},
   "cell_type": "markdown",
   "metadata": {},
   "source": [
    "2. Defina a matriz."
   ]
  },
  {
   "cell_type": "code",
   "execution_count": 6,
   "metadata": {},
   "outputs": [],
   "source": [
    "A = np.array([[2, 1], [1, -1]])"
   ]
  },
  {
   "attachments": {},
   "cell_type": "markdown",
   "metadata": {},
   "source": [
    "3. Use a função ```np.linalg.eig()``` para calcular os autovalores e autovetores."
   ]
  },
  {
   "cell_type": "code",
   "execution_count": 7,
   "metadata": {},
   "outputs": [],
   "source": [
    "autovalores, autovetores = np.linalg.eig(A)"
   ]
  },
  {
   "attachments": {},
   "cell_type": "markdown",
   "metadata": {},
   "source": [
    "4. Imprima os autovalores e autovetores calculados."
   ]
  },
  {
   "cell_type": "code",
   "execution_count": 8,
   "metadata": {},
   "outputs": [
    {
     "name": "stdout",
     "output_type": "stream",
     "text": [
      "Autovalores: [ 2.30277564 -1.30277564]\n",
      "Autovetores: [[ 0.95709203 -0.28978415]\n",
      " [ 0.28978415  0.95709203]]\n"
     ]
    }
   ],
   "source": [
    "print(\"Autovalores:\", autovalores)\n",
    "print(\"Autovetores:\", autovetores)"
   ]
  },
  {
   "attachments": {},
   "cell_type": "markdown",
   "metadata": {},
   "source": [
    "<hr>\n",
    "\n",
    "## Métodos de decomposição\n",
    "\n",
    "### Introdução\n",
    "\n",
    "Métodos de decomposição são técnicas utilizadas na álgebra linear para decompor uma matriz em duas ou mais matrizes mais simples e de fácil manipulação. Essas decomposições permitem simplificar operações matriciais complexas e resolver problemas de forma mais eficiente.\n",
    "\n",
    "Existem diferentes métodos de decomposição, cada um com suas próprias características e aplicações específicas. Alguns dos métodos mais comuns são a decomposição LU (Lower-Upper), a decomposição QR (Orthogonal-Triangular) e a decomposição Cholesky."
   ]
  },
  {
   "attachments": {},
   "cell_type": "markdown",
   "metadata": {},
   "source": [
    "### Decomposição LU\n",
    "\n",
    "A decomposição LU (Lower-Upper) é um método de decomposição amplamente utilizado na álgebra linear. Esse método fatora uma matriz em dois componentes: uma matriz triangular inferior e uma matriz triangular superior .\n",
    "\n",
    "Dada uma matriz $\\mathbf{A}$, a decomposição LU é representada pela equação:\n",
    "\n",
    "$$\\mathbf{A} = \\mathbf{LU} \\text{,}$$\n",
    "\n",
    "em que $\\mathbf{L}$ é a matriz triangular inferior e $\\mathbf{U}$ é a matriz triangular superior.\n",
    "\n",
    "A matriz $\\mathbf{L}$ possui 1s na diagonal principal e zeros acima dela, enquanto a matriz $\\mathbf{U}$ possui zeros abaixo da diagonal principal. Ambas as matrizes têm a mesma dimensão que a matriz original $\\mathbf{A}$.\n",
    "\n",
    "A decomposição LU pode ser realizada utilizando técnicas como eliminação de Gauss ou fatoração de Doolittle. O processo envolve transformar a matriz original em uma forma triangular superior por meio de operações elementares de linha. \n",
    "\n",
    "#### Realizando a decomposição LU com NumPy\n",
    "\n",
    "1. Importe as bibliotecas NumPy e SciPy."
   ]
  },
  {
   "cell_type": "code",
   "execution_count": 9,
   "metadata": {},
   "outputs": [],
   "source": [
    "import numpy as np\n",
    "import scipy"
   ]
  },
  {
   "attachments": {},
   "cell_type": "markdown",
   "metadata": {},
   "source": [
    "2. Defina a matriz."
   ]
  },
  {
   "cell_type": "code",
   "execution_count": 10,
   "metadata": {},
   "outputs": [],
   "source": [
    "A = np.array([[4, 2, 2],\n",
    "              [2, 5, 4],\n",
    "              [2, 4, 11]])"
   ]
  },
  {
   "attachments": {},
   "cell_type": "markdown",
   "metadata": {},
   "source": [
    "3. Use a função ```scipy.linalg.lu()``` para realizar a decomposição LU."
   ]
  },
  {
   "cell_type": "code",
   "execution_count": 11,
   "metadata": {},
   "outputs": [],
   "source": [
    "P, L, U = scipy.linalg.lu(A)"
   ]
  },
  {
   "attachments": {},
   "cell_type": "markdown",
   "metadata": {},
   "source": [
    "4. Imprima as matrizes resultantes."
   ]
  },
  {
   "cell_type": "code",
   "execution_count": 12,
   "metadata": {},
   "outputs": [
    {
     "name": "stdout",
     "output_type": "stream",
     "text": [
      "Matriz de permutação:\n",
      "[[1. 0. 0.]\n",
      " [0. 1. 0.]\n",
      " [0. 0. 1.]]\n",
      "Matriztriangular inferior:\n",
      "[[1.   0.   0.  ]\n",
      " [0.5  1.   0.  ]\n",
      " [0.5  0.75 1.  ]]\n",
      "Matriz triangular superior:\n",
      "[[4.   2.   2.  ]\n",
      " [0.   4.   3.  ]\n",
      " [0.   0.   7.75]]\n"
     ]
    }
   ],
   "source": [
    "print(\"Matriz de permutação:\")\n",
    "print(P)\n",
    "print(\"Matriztriangular inferior:\")\n",
    "print(L)\n",
    "print(\"Matriz triangular superior:\")\n",
    "print(U)"
   ]
  },
  {
   "attachments": {},
   "cell_type": "markdown",
   "metadata": {},
   "source": [
    "### Decomposição QR\n",
    "\n",
    "A decomposição QR (Orthogonal-Triangular) é um método de decomposição utilizado na álgebra linear para fatorar uma matriz em um produto de uma matriz ortogonal e uma matriz triangular.\n",
    "\n",
    "Dada uma matriz $\\mathbf{A}$, a decomposição QR é representada pela equação:\n",
    "\n",
    "$$\\mathbf{A} = \\mathbf{QR} \\text{,}$$\n",
    "\n",
    "em que $\\mathbf{Q}$ é uma matriz ortogonal e $\\mathbf{R}$ é uma matriz triangular superior.\n",
    "\n",
    "As colunas de $\\mathbf{Q}$ são vetores ortogonais entre si, o que significa que o produto interno entre quaisquer duas colunas é zero. Além disso, colunas de $\\mathbf{Q}$ têm norma igual a 1, ou seja, são vetores normalizados.\n",
    "\n",
    "A matriz $\\mathbf{R}$ é uma matriz triangular superior que contém informações sobre as combinações lineares das colunas da matriz original $\\mathbf{A}$.\n",
    "\n",
    "A decomposição QR é útil para resolver sistemas de equações lineares, encontrar mínimos quadrados e calcular autovalores e autovetores. Além disso, a decomposição QR é mais estável numericamente em comparação com outras técnicas de decomposição, como a decomposição LU.\n",
    "\n",
    "#### Realizando a decomposição LU com NumPy\n",
    "\n",
    "1. Importe a biblioteca NumPy."
   ]
  },
  {
   "cell_type": "code",
   "execution_count": 13,
   "metadata": {},
   "outputs": [],
   "source": [
    "import numpy as np"
   ]
  },
  {
   "attachments": {},
   "cell_type": "markdown",
   "metadata": {},
   "source": [
    "2. Defina a matriz."
   ]
  },
  {
   "cell_type": "code",
   "execution_count": 14,
   "metadata": {},
   "outputs": [],
   "source": [
    "A = np.array([[4, 2, 2],\n",
    "              [2, 5, 4],\n",
    "              [2, 4, 11]])"
   ]
  },
  {
   "attachments": {},
   "cell_type": "markdown",
   "metadata": {},
   "source": [
    "3. Use a função ```np.linalg.qr()``` para realizar a decomposição QR."
   ]
  },
  {
   "cell_type": "code",
   "execution_count": 15,
   "metadata": {},
   "outputs": [],
   "source": [
    "Q, R = np.linalg.qr(A)"
   ]
  },
  {
   "attachments": {},
   "cell_type": "markdown",
   "metadata": {},
   "source": [
    "4. Imprima as matrizes resultantes."
   ]
  },
  {
   "cell_type": "code",
   "execution_count": 16,
   "metadata": {},
   "outputs": [
    {
     "name": "stdout",
     "output_type": "stream",
     "text": [
      "Matriz ortogonal:\n",
      "[[-0.81649658  0.56871112 -0.09950372]\n",
      " [-0.40824829 -0.69057779 -0.59702231]\n",
      " [-0.40824829 -0.44684446  0.79602975]]\n",
      "Matriz R triangular superior:\n",
      "[[-4.89897949 -5.30722778 -7.75671752]\n",
      " [ 0.         -4.10284454 -6.54017793]\n",
      " [ 0.          0.          6.16923058]]\n"
     ]
    }
   ],
   "source": [
    "print(\"Matriz ortogonal:\")\n",
    "print(Q)\n",
    "\n",
    "print(\"Matriz R triangular superior:\")\n",
    "print(R)"
   ]
  },
  {
   "attachments": {},
   "cell_type": "markdown",
   "metadata": {},
   "source": [
    "### Decomposição Cholesky\n",
    "\n",
    "A decomposição Cholesky é um método de decomposição utilizado para fatorar uma matriz simétrica definida positiva em um produto de uma matriz triangular inferior e sua transposta conjugada. Essa decomposição recebe esse nome em homenagem ao matemático André-Louis Cholesky, que desenvolveu o método no início do século XX.\n",
    "\n",
    "Uma matriz é considerada simétrica se for igual à sua transposta e definida positiva se todos os seus autovalores forem estritamente positivos.\n",
    "\n",
    "Dada uma matriz $\\mathbf{A}$, a decomposição Cholesky é representada pela equação:\n",
    "\n",
    "$$\\mathbf{A} = \\mathbf{L} \\mathbf{L}^T \\text{,}$$\n",
    "\n",
    "em que $\\mathbf{A}$ é a matriz original, $\\mathbf{L}$ é a matriz triangular inferior resultante da decomposição e $\\mathbf{L}^T$ é a transposta conjugada de $\\mathbf{L}$.\n",
    "\n",
    "O processo de decomposição envolve encontrar os elementos da matriz $\\mathbf{L}$ por meio de operações de substituição na diagonal principal e nos elementos abaixo dela.\n",
    "\n",
    "#### Realizando a decomposição Cholesky com NumPy\n",
    "\n",
    "1. Importe a biblioteca Numpy.\n"
   ]
  },
  {
   "cell_type": "code",
   "execution_count": 17,
   "metadata": {},
   "outputs": [],
   "source": [
    "import numpy as np"
   ]
  },
  {
   "attachments": {},
   "cell_type": "markdown",
   "metadata": {},
   "source": [
    "2. Defina a matriz."
   ]
  },
  {
   "cell_type": "code",
   "execution_count": 18,
   "metadata": {},
   "outputs": [],
   "source": [
    "A = np.array([[4, 2, 2],\n",
    "              [2, 5, 4],\n",
    "              [2, 4, 11]])"
   ]
  },
  {
   "attachments": {},
   "cell_type": "markdown",
   "metadata": {},
   "source": [
    "3. Use a função ```np.linalg.cholesky()``` para realizar a decomposição Cholesky."
   ]
  },
  {
   "cell_type": "code",
   "execution_count": 19,
   "metadata": {},
   "outputs": [],
   "source": [
    "L = np.linalg.cholesky(A)"
   ]
  },
  {
   "attachments": {},
   "cell_type": "markdown",
   "metadata": {},
   "source": [
    "4. Imprima a matriz triangular inferior resultante."
   ]
  },
  {
   "cell_type": "code",
   "execution_count": 20,
   "metadata": {},
   "outputs": [
    {
     "name": "stdout",
     "output_type": "stream",
     "text": [
      "[[2.         0.         0.        ]\n",
      " [1.         2.         0.        ]\n",
      " [1.         1.5        2.78388218]]\n"
     ]
    }
   ],
   "source": [
    "print(L)"
   ]
  }
 ],
 "metadata": {
  "kernelspec": {
   "display_name": "Python 3",
   "language": "python",
   "name": "python3"
  },
  "language_info": {
   "codemirror_mode": {
    "name": "ipython",
    "version": 3
   },
   "file_extension": ".py",
   "mimetype": "text/x-python",
   "name": "python",
   "nbconvert_exporter": "python",
   "pygments_lexer": "ipython3",
   "version": "3.9.13"
  },
  "orig_nbformat": 4
 },
 "nbformat": 4,
 "nbformat_minor": 2
}
