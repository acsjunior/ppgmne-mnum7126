{
 "cells": [
  {
   "attachments": {},
   "cell_type": "markdown",
   "metadata": {},
   "source": [
    "# Lista de Exercícios 01\n",
    "António C. da Silva Júnior\n",
    "\n",
    "<hr>"
   ]
  },
  {
   "attachments": {},
   "cell_type": "markdown",
   "metadata": {},
   "source": [
    "### Exercise 1: Sum of the first n positive integers\n",
    "\n",
    "Write a program that reads a positive integer, n, from the user and then displays the sum of all of the integers from 1 to n. The sum of the first n positive integers can be computed using the formula:\n",
    "\n",
    "$\\text{S} = \\dfrac{(n+1)n}{2}$"
   ]
  },
  {
   "cell_type": "code",
   "execution_count": 11,
   "metadata": {},
   "outputs": [
    {
     "data": {
      "text/plain": [
       "10"
      ]
     },
     "execution_count": 11,
     "metadata": {},
     "output_type": "execute_result"
    }
   ],
   "source": [
    "def somar_inteiros(n):\n",
    "    return int(((n+1)*n)/2)\n",
    "\n",
    "# Teste:\n",
    "n = 4\n",
    "somar_inteiros(n)"
   ]
  },
  {
   "attachments": {},
   "cell_type": "markdown",
   "metadata": {},
   "source": [
    "### Exercise 2: Widgets and Gizmos\n",
    "\n",
    "An online retailer sells two products: widgets and gizmos. Each widget weighs 75 grams. Each gizmo weighs 112 grams. Write a program that reads the number of widgets and the number of gizmos in an order from the user. Then your program should compute and display the total weight of the order. "
   ]
  },
  {
   "cell_type": "code",
   "execution_count": 12,
   "metadata": {},
   "outputs": [
    {
     "data": {
      "text/plain": [
       "1646"
      ]
     },
     "execution_count": 12,
     "metadata": {},
     "output_type": "execute_result"
    }
   ],
   "source": [
    "def peso_total(n_wid, n_giz, w_wid=75, w_giz=112):\n",
    "    return n_wid*w_wid + n_giz*w_giz\n",
    "\n",
    "# Teste:\n",
    "peso_total(10, 8)"
   ]
  },
  {
   "attachments": {},
   "cell_type": "markdown",
   "metadata": {},
   "source": [
    "### Exercise 3: Compound Interest\n",
    "\n",
    "Pretend you have just opened a new savings account earning 4 percent interest per year. The interest you earn is paid at the end of the year and added to the balance of the savings account. Write a program that begins by reading the amount of money deposited into the account from the user. Then your program should compute and display the amount in the savings account after 1, 2, and 3 years. Display each amount so that it is rounded to 2 decimal places."
   ]
  },
  {
   "cell_type": "code",
   "execution_count": 13,
   "metadata": {},
   "outputs": [
    {
     "name": "stdout",
     "output_type": "stream",
     "text": [
      "Investindo R$2000.00\n",
      "Após 1 ano(s) você terá R$2080.00\n",
      "Após 2 ano(s) você terá R$2163.20\n",
      "Após 3 ano(s) você terá R$2249.73\n"
     ]
    }
   ],
   "source": [
    "def obter_retorno(vlr_inicial, anos):\n",
    "\n",
    "    def calcular_juros(C, i, t):\n",
    "        '''\n",
    "        Função para calcular juros compostos.\n",
    "\n",
    "        Parameters:\n",
    "            C (float): Capital investido\n",
    "            i (float): Taxa de juros\n",
    "            t (int): Período de tempo\n",
    "\n",
    "        Returns:\n",
    "            Capital investido acrescido dos juros compostos\n",
    "        '''\n",
    "        return C*(1 + i)**t\n",
    "\n",
    "    print(f'Investindo R${vlr_inicial:.2f}')\n",
    "\n",
    "    for a in range(1, anos+1):\n",
    "        vlr_final = calcular_juros(vlr_inicial, 0.04, a)\n",
    "        print(f'Após {a} ano(s) você terá R${vlr_final:.2f}')\n",
    "\n",
    "# Teste:\n",
    "obter_retorno(2000, 3)"
   ]
  },
  {
   "attachments": {},
   "cell_type": "markdown",
   "metadata": {},
   "source": [
    "### Exercise 4: Arithmetic \n",
    "\n",
    "Create a program that reads two integers, a and b, from the user. Your program should compute and display: \n",
    "\n",
    "* The sum of a and b\n",
    "* The difference when b is subtracted from a\n",
    "* The product of a and b\n",
    "* The quotient when a is divided by b\n",
    "* The remainder when a is divided by b\n",
    "* The result of $\\log_{10}a$\n",
    "* The result of $a^b$"
   ]
  },
  {
   "cell_type": "code",
   "execution_count": 14,
   "metadata": {},
   "outputs": [
    {
     "name": "stdout",
     "output_type": "stream",
     "text": [
      "A soma de 5 e 3 é 8\n",
      "A diferença quando 3 é subtraído de 5 é 2\n",
      "O produto de 5 e 3 é 15\n",
      "O quociente quando 5 é dividido por 3 é 1\n",
      "O resto quando 5 é dividido por 3 é 2\n",
      "O log10 de 5 é 0.6989700043360189\n",
      "O resutado de 5^3 é 125\n"
     ]
    }
   ],
   "source": [
    "import math\n",
    "\n",
    "def calcular(a, b):\n",
    "    print(f'A soma de {a} e {b} é {a + b}')\n",
    "    print(f'A diferença quando {b} é subtraído de {a} é {a - b}')\n",
    "    print(f'O produto de {a} e {b} é {a * b}')\n",
    "    print(f'O quociente quando {a} é dividido por {b} é {a // b}')\n",
    "    print(f'O resto quando {a} é dividido por {b} é {a % b}')\n",
    "    print(f'O log10 de {a} é {math.log10(a)}')\n",
    "    print(f'O resutado de {a}^{b} é {a**b}')\n",
    "\n",
    "# Teste:\n",
    "calcular(5, 3)"
   ]
  },
  {
   "attachments": {},
   "cell_type": "markdown",
   "metadata": {},
   "source": [
    "### Exercise 5: Temperature Conversion Table \n",
    "\n",
    "Write a program displaying a temperature conversion table for degrees Celsius and Fahrenheit. The table should include rows for all temperatures between 0 and 100 degrees Celsius that are multiples of 10 degrees Celsius. Include appropriate headings on your columns. The formula for converting between degrees Celsius and degrees Fahrenheit can be found on the internet. "
   ]
  },
  {
   "cell_type": "code",
   "execution_count": 15,
   "metadata": {},
   "outputs": [
    {
     "name": "stdout",
     "output_type": "stream",
     "text": [
      "|  Celcius  | Farenheit |\n",
      "|-----------|---------- |\n",
      "|     0     |   32.0    |\n",
      "|    10     |   50.0    |\n",
      "|    20     |   68.0    |\n",
      "|    30     |   86.0    |\n",
      "|    40     |   104.0   |\n",
      "|    50     |   122.0   |\n",
      "|    60     |   140.0   |\n",
      "|    70     |   158.0   |\n",
      "|    80     |   176.0   |\n",
      "|    90     |   194.0   |\n",
      "|    100    |   212.0   |\n"
     ]
    }
   ],
   "source": [
    "def obter_conversao(min_c=0, max_c=100, multiplo=10):\n",
    "    print(\"|  Celcius  | Farenheit |\")\n",
    "    print(\"|-----------|---------- |\")\n",
    "    for C in range(min_c, max_c+multiplo, multiplo):\n",
    "        F = round(C*1.8 + 32,2)\n",
    "        print(f'|{C:^11}|{F:^11}|')\n",
    "\n",
    "obter_conversao()"
   ]
  }
 ],
 "metadata": {
  "kernelspec": {
   "display_name": "Python 3",
   "language": "python",
   "name": "python3"
  },
  "language_info": {
   "name": "python",
   "version": "3.9.13"
  },
  "orig_nbformat": 4
 },
 "nbformat": 4,
 "nbformat_minor": 2
}
