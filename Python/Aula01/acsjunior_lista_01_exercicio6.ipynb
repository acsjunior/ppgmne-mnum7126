{
 "cells": [
  {
   "attachments": {},
   "cell_type": "markdown",
   "metadata": {},
   "source": [
    "# Lista de Exercícios 01\n",
    "António C. da Silva Júnior\n",
    "\n",
    "<hr>"
   ]
  },
  {
   "attachments": {},
   "cell_type": "markdown",
   "metadata": {},
   "source": [
    "### Exercise 6: Caesar Cipher - Challenge\n",
    "\n",
    "One of the first known examples of encryption was used by Julius Caesar. Caesar needed to provide written instructions to his generals, but he didn’t want his enemies to learn his plans if the message slipped into their hands. As a result, he developed what later became known as the Caesar Cipher. \n",
    "\n",
    "The idea behind this cipher is simple (and as a result, it provides no protection against modern code-breaking techniques). Each letter in the original message is shifted by 3 places. As a result, A becomes D, B becomes E, C becomes F, D becomes G, etc. The last three letters in the alphabet are wrapped around the beginning: X becomes A, Y becomes B, and Z becomes C. Non-letter characters are not modified by the cipher. \n",
    "\n",
    "Write a program that implements a Caesar cipher. Allow the user to supply the message and the shift amount and then display the shifted message. Ensure that your program encodes both uppercase and lowercase letters. Your program should also support negative shift values to be used both to encode and decode messages. \n"
   ]
  },
  {
   "cell_type": "code",
   "execution_count": 1,
   "metadata": {},
   "outputs": [
    {
     "data": {
      "text/plain": [
       "'Liá, jrkal!'"
      ]
     },
     "execution_count": 1,
     "metadata": {},
     "output_type": "execute_result"
    }
   ],
   "source": [
    "def caesar_cipher(txt, d):\n",
    "    abc = 'abcdefghijklmnopqrstuvwxyz'\n",
    "    out = ''\n",
    "    for l in txt:\n",
    "        if l.lower() in abc:\n",
    "            idx = abc.index(l.lower())\n",
    "            idx_out = (idx + d) % len(abc)\n",
    "            l_out = abc[idx_out]\n",
    "        else:\n",
    "            l_out = l\n",
    "        out += l_out.upper() if l.isupper() else l_out\n",
    "    return out\n",
    "\n",
    "\n",
    "# Teste:\n",
    "caesar_cipher(\"Olá, mundo!\", -3)"
   ]
  }
 ],
 "metadata": {
  "kernelspec": {
   "display_name": "Python 3",
   "language": "python",
   "name": "python3"
  },
  "language_info": {
   "codemirror_mode": {
    "name": "ipython",
    "version": 3
   },
   "file_extension": ".py",
   "mimetype": "text/x-python",
   "name": "python",
   "nbconvert_exporter": "python",
   "pygments_lexer": "ipython3",
   "version": "3.9.13"
  },
  "orig_nbformat": 4
 },
 "nbformat": 4,
 "nbformat_minor": 2
}
