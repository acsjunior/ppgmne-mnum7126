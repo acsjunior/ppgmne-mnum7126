{
  "cells": [
    {
      "cell_type": "markdown",
      "metadata": {
        "id": "tA_5YWGsgm--"
      },
      "source": [
        "# Introdução ao Python\n",
        "\n",
        "Aula 01\n",
        "\n",
        "* Tipos básicos\n",
        "* Operações Básicas\n",
        "* Strings \n",
        "* Loops"
      ]
    },
    {
      "cell_type": "markdown",
      "metadata": {
        "id": "dKrNIA7gg5Pf"
      },
      "source": [
        "## Tipos\n",
        "\n",
        "### Inteiros"
      ]
    },
    {
      "cell_type": "code",
      "execution_count": null,
      "metadata": {
        "colab": {
          "base_uri": "https://localhost:8080/"
        },
        "id": "8ztGZe2Kg-QR",
        "outputId": "97e2662f-08b2-4444-9f34-8cd2bfa91073"
      },
      "outputs": [
        {
          "data": {
            "text/plain": [
              "int"
            ]
          },
          "execution_count": 2,
          "metadata": {},
          "output_type": "execute_result"
        }
      ],
      "source": [
        "a = 50\n",
        "type(a)"
      ]
    },
    {
      "cell_type": "markdown",
      "metadata": {
        "id": "iuh6wU6MT0Il"
      },
      "source": [
        "### Float"
      ]
    },
    {
      "cell_type": "code",
      "execution_count": null,
      "metadata": {
        "colab": {
          "base_uri": "https://localhost:8080/"
        },
        "id": "xjsPCismT2CR",
        "outputId": "30386d61-427b-46a2-88de-b5db7abf7b27"
      },
      "outputs": [
        {
          "data": {
            "text/plain": [
              "float"
            ]
          },
          "execution_count": 3,
          "metadata": {},
          "output_type": "execute_result"
        }
      ],
      "source": [
        "a = 5.0\n",
        "type(a)"
      ]
    },
    {
      "cell_type": "markdown",
      "metadata": {
        "id": "DqShNIpMT1tq"
      },
      "source": [
        "### String"
      ]
    },
    {
      "cell_type": "code",
      "execution_count": null,
      "metadata": {
        "colab": {
          "base_uri": "https://localhost:8080/"
        },
        "id": "6UJVzUnxUBa3",
        "outputId": "b2749bb4-2f2f-44a3-b665-06d66f2a3630"
      },
      "outputs": [
        {
          "data": {
            "text/plain": [
              "str"
            ]
          },
          "execution_count": 4,
          "metadata": {},
          "output_type": "execute_result"
        }
      ],
      "source": [
        "a = \"KKK\"\n",
        "type(a)"
      ]
    },
    {
      "cell_type": "markdown",
      "metadata": {
        "id": "T72ByRfcUGm5"
      },
      "source": [
        "### Bool"
      ]
    },
    {
      "cell_type": "code",
      "execution_count": null,
      "metadata": {
        "colab": {
          "base_uri": "https://localhost:8080/"
        },
        "id": "lxH8hDPzUGMA",
        "outputId": "75698531-8d16-4259-fee3-609b66dd3ab0"
      },
      "outputs": [
        {
          "data": {
            "text/plain": [
              "bool"
            ]
          },
          "execution_count": 5,
          "metadata": {},
          "output_type": "execute_result"
        }
      ],
      "source": [
        "a = True\n",
        "type(a)"
      ]
    },
    {
      "cell_type": "markdown",
      "metadata": {
        "id": "f-EJKmekhLvr"
      },
      "source": [
        "## Operações Básicas\n",
        "\n",
        "### Divisão inteira \"//\" e divisão clássica \"/\""
      ]
    },
    {
      "cell_type": "code",
      "execution_count": null,
      "metadata": {
        "colab": {
          "base_uri": "https://localhost:8080/"
        },
        "id": "Fk7-jTbkhAGN",
        "outputId": "45bad3f5-0151-43a0-b0dc-92cdc2e7b8bc"
      },
      "outputs": [
        {
          "data": {
            "text/plain": [
              "8"
            ]
          },
          "execution_count": 19,
          "metadata": {},
          "output_type": "execute_result"
        }
      ],
      "source": [
        "a // 6"
      ]
    },
    {
      "cell_type": "code",
      "execution_count": null,
      "metadata": {
        "colab": {
          "base_uri": "https://localhost:8080/"
        },
        "id": "wNgx3NyMhWIl",
        "outputId": "4796d8db-5210-4fd1-bab2-33fc42a38792"
      },
      "outputs": [
        {
          "data": {
            "text/plain": [
              "8.333333333333334"
            ]
          },
          "execution_count": 20,
          "metadata": {},
          "output_type": "execute_result"
        }
      ],
      "source": [
        "a / 6"
      ]
    },
    {
      "cell_type": "markdown",
      "metadata": {
        "id": "I35-hJW4haS5"
      },
      "source": [
        "### Soma e Multiplicação"
      ]
    },
    {
      "cell_type": "code",
      "execution_count": null,
      "metadata": {
        "colab": {
          "base_uri": "https://localhost:8080/"
        },
        "id": "eCf8Vn7aUxKY",
        "outputId": "81c7a1cc-ee3c-412c-c3a2-e1417b5b6463"
      },
      "outputs": [
        {
          "name": "stdout",
          "output_type": "stream",
          "text": [
            "<class 'float'>\n",
            "<class 'int'>\n",
            "8.0\n",
            "<class 'float'>\n"
          ]
        }
      ],
      "source": [
        "a = 3.0\n",
        "print(type(a))\n",
        "b = 5\n",
        "print(type(b))\n",
        "\n",
        "print(a+b)\n",
        "print(type(a+b))"
      ]
    },
    {
      "cell_type": "code",
      "execution_count": null,
      "metadata": {
        "colab": {
          "base_uri": "https://localhost:8080/"
        },
        "id": "sY6wjc-tU4Bu",
        "outputId": "31f7ef2e-db90-464c-f0ce-403499e4bc1b"
      },
      "outputs": [
        {
          "name": "stdout",
          "output_type": "stream",
          "text": [
            "15.0\n",
            "<class 'float'>\n"
          ]
        }
      ],
      "source": [
        "print(a*b)\n",
        "print(type(a*b))"
      ]
    },
    {
      "cell_type": "markdown",
      "metadata": {
        "id": "K1p1DG1_VQi0"
      },
      "source": [
        "## Expoentes"
      ]
    },
    {
      "cell_type": "code",
      "execution_count": null,
      "metadata": {
        "colab": {
          "base_uri": "https://localhost:8080/"
        },
        "id": "UjPc9xCGVSwI",
        "outputId": "0f4dac77-ada0-429a-8ebe-fbf1706bb303"
      },
      "outputs": [
        {
          "name": "stdout",
          "output_type": "stream",
          "text": [
            "81\n"
          ]
        }
      ],
      "source": [
        "a = 3\n",
        "b = 4\n",
        "\n",
        "c = a**b\n",
        "print(c)"
      ]
    },
    {
      "cell_type": "markdown",
      "metadata": {
        "id": "Yoz3YdDRVjHY"
      },
      "source": [
        "## String manipulation"
      ]
    },
    {
      "cell_type": "code",
      "execution_count": null,
      "metadata": {
        "colab": {
          "base_uri": "https://localhost:8080/"
        },
        "id": "Y21G2FMdVl-K",
        "outputId": "c6cf467a-f462-408b-e4fa-da16cea4d8e1"
      },
      "outputs": [
        {
          "name": "stdout",
          "output_type": "stream",
          "text": [
            "ABCDabcd\n",
            "ABCD,abcd\n"
          ]
        }
      ],
      "source": [
        "a = \"ABCD\"\n",
        "b = \"abcd\"\n",
        "\n",
        "c = a+b\n",
        "print(c)\n",
        "\n",
        "c = a + \",\" + b\n",
        "print(c)"
      ]
    },
    {
      "cell_type": "markdown",
      "metadata": {
        "id": "x4ib8SydWMH4"
      },
      "source": [
        "### Strings são vetores"
      ]
    },
    {
      "cell_type": "code",
      "execution_count": null,
      "metadata": {
        "colab": {
          "base_uri": "https://localhost:8080/"
        },
        "id": "EnDDeWqxWIio",
        "outputId": "438bf4ae-becf-45a6-8244-f858146818a1"
      },
      "outputs": [
        {
          "name": "stdout",
          "output_type": "stream",
          "text": [
            "C\n"
          ]
        }
      ],
      "source": [
        "print(c[2])"
      ]
    },
    {
      "cell_type": "code",
      "execution_count": null,
      "metadata": {
        "colab": {
          "base_uri": "https://localhost:8080/"
        },
        "id": "HJYmsgYYV5kK",
        "outputId": "9670191c-3932-40d0-88fb-350a5ac6e406"
      },
      "outputs": [
        {
          "name": "stdout",
          "output_type": "stream",
          "text": [
            "A\n",
            "B\n",
            "C\n",
            "D\n",
            ",\n",
            "a\n",
            "b\n",
            "c\n",
            "d\n"
          ]
        }
      ],
      "source": [
        "for i in c:\n",
        "  print(i)"
      ]
    },
    {
      "cell_type": "code",
      "execution_count": null,
      "metadata": {
        "colab": {
          "base_uri": "https://localhost:8080/"
        },
        "id": "V6OVJzPxWXtP",
        "outputId": "6c3fc113-6339-4660-c58e-a15498a01ec1"
      },
      "outputs": [
        {
          "name": "stdout",
          "output_type": "stream",
          "text": [
            "12\n"
          ]
        }
      ],
      "source": [
        "a = \"Hello World!\"\n",
        "print(len(a))"
      ]
    },
    {
      "cell_type": "code",
      "execution_count": null,
      "metadata": {
        "colab": {
          "base_uri": "https://localhost:8080/"
        },
        "id": "-qCBxrfVWgEa",
        "outputId": "bfa68d18-e5d2-4cdf-c678-b31b15db7051"
      },
      "outputs": [
        {
          "name": "stdout",
          "output_type": "stream",
          "text": [
            "True\n"
          ]
        }
      ],
      "source": [
        "txt = \"A UFPR é a melhor universidade do Paraná!\"\n",
        "print(\"Paraná\" in txt)"
      ]
    },
    {
      "cell_type": "code",
      "execution_count": null,
      "metadata": {
        "colab": {
          "base_uri": "https://localhost:8080/"
        },
        "id": "VXQSvGQFWtBb",
        "outputId": "b3238590-8cd9-4409-b8cb-d207459d16df"
      },
      "outputs": [
        {
          "name": "stdout",
          "output_type": "stream",
          "text": [
            "False\n"
          ]
        }
      ],
      "source": [
        "txt = \"A UFPR é a melhor universidade do Paraná!\"\n",
        "print(\"Paraná\" not in txt)"
      ]
    },
    {
      "cell_type": "markdown",
      "metadata": {
        "id": "rvPMeJA8W8vp"
      },
      "source": [
        "## Alguns números especiais"
      ]
    },
    {
      "cell_type": "code",
      "execution_count": null,
      "metadata": {
        "id": "ffpcYF8qd2Ef"
      },
      "outputs": [],
      "source": [
        "import numpy as np"
      ]
    },
    {
      "cell_type": "code",
      "execution_count": null,
      "metadata": {
        "colab": {
          "base_uri": "https://localhost:8080/"
        },
        "id": "ewKrMIz3d-Aq",
        "outputId": "322366f6-7030-42d3-cf4d-718f7f18fe8e"
      },
      "outputs": [
        {
          "data": {
            "text/plain": [
              "3.141592653589793"
            ]
          },
          "execution_count": 29,
          "metadata": {},
          "output_type": "execute_result"
        }
      ],
      "source": [
        "np.pi"
      ]
    },
    {
      "cell_type": "code",
      "execution_count": null,
      "metadata": {
        "id": "JVW5lSnpfIgh"
      },
      "outputs": [],
      "source": [
        "def area_circulo (raio):\n",
        "  return raio ** 2 * np.pi"
      ]
    },
    {
      "cell_type": "code",
      "execution_count": null,
      "metadata": {
        "colab": {
          "base_uri": "https://localhost:8080/"
        },
        "id": "AsW60JKhfT-Y",
        "outputId": "d914381f-b4ab-4d77-cc3a-87def9e2cbfc"
      },
      "outputs": [
        {
          "data": {
            "text/plain": [
              "314.1592653589793"
            ]
          },
          "execution_count": 35,
          "metadata": {},
          "output_type": "execute_result"
        }
      ],
      "source": [
        "area_circulo (10)"
      ]
    },
    {
      "cell_type": "code",
      "execution_count": null,
      "metadata": {
        "colab": {
          "base_uri": "https://localhost:8080/"
        },
        "id": "d4Pvi99TXpgp",
        "outputId": "d5e0ef0b-19e7-49b1-9e97-05b1fbf6a83c"
      },
      "outputs": [
        {
          "name": "stdout",
          "output_type": "stream",
          "text": [
            "2.718281828459045\n",
            "<class 'numpy.float64'>\n"
          ]
        }
      ],
      "source": [
        "e = np.exp(1)\n",
        "print(e)\n",
        "print(type(e))"
      ]
    },
    {
      "cell_type": "markdown",
      "metadata": {
        "id": "ROfik5mkXgXA"
      },
      "source": [
        "## Números Complexos"
      ]
    },
    {
      "cell_type": "code",
      "execution_count": null,
      "metadata": {
        "colab": {
          "base_uri": "https://localhost:8080/"
        },
        "id": "vC5-58Eid_Xj",
        "outputId": "dbf6d504-3922-4765-fede-2c17ffe9048a"
      },
      "outputs": [
        {
          "data": {
            "text/plain": [
              "complex"
            ]
          },
          "execution_count": 32,
          "metadata": {},
          "output_type": "execute_result"
        }
      ],
      "source": [
        "a = 3j + 2\n",
        "type(a)"
      ]
    },
    {
      "cell_type": "code",
      "execution_count": null,
      "metadata": {
        "colab": {
          "base_uri": "https://localhost:8080/"
        },
        "id": "UO6OHK6SZ_BI",
        "outputId": "18918772-9e35-45dc-b134-91fefc12b4d4"
      },
      "outputs": [
        {
          "name": "stdout",
          "output_type": "stream",
          "text": [
            "(3+5j)\n",
            "<class 'complex'>\n"
          ]
        }
      ],
      "source": [
        "b = complex(3,5)\n",
        "print(b)\n",
        "print(type(b))"
      ]
    }
  ],
  "metadata": {
    "colab": {
      "provenance": []
    },
    "kernelspec": {
      "display_name": "Python 3",
      "name": "python3"
    },
    "language_info": {
      "name": "python",
      "version": "3.9.13"
    }
  },
  "nbformat": 4,
  "nbformat_minor": 0
}
