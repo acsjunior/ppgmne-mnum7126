{
  "nbformat": 4,
  "nbformat_minor": 0,
  "metadata": {
    "colab": {
      "provenance": []
    },
    "kernelspec": {
      "name": "python3",
      "display_name": "Python 3"
    },
    "language_info": {
      "name": "python"
    }
  },
  "cells": [
    {
      "cell_type": "markdown",
      "source": [
        "# Funções em Python"
      ],
      "metadata": {
        "id": "AcBZu268ms9A"
      }
    },
    {
      "cell_type": "code",
      "execution_count": 2,
      "metadata": {
        "colab": {
          "base_uri": "https://localhost:8080/"
        },
        "id": "GxIIe6yvmsgc",
        "outputId": "ee76e539-1bf1-4bef-925f-48d13c50c66f"
      },
      "outputs": [
        {
          "output_type": "stream",
          "name": "stdout",
          "text": [
            "Hello from a function\n"
          ]
        }
      ],
      "source": [
        "def my_function():\n",
        "  print(\"Hello from a function\")\n",
        "\n",
        "my_function()"
      ]
    },
    {
      "cell_type": "markdown",
      "source": [
        "## Funções com argumentos"
      ],
      "metadata": {
        "id": "8re5NYpAnmXh"
      }
    },
    {
      "cell_type": "code",
      "source": [
        "def my_function_2(nome = \"Junior\"): # Argumento (nome) Default é \"Junior\", mas pode ser alterado\n",
        "  print(\"Hello \" + nome + \" from a function\")\n",
        "\n",
        "my_function_2()  # Usa o Default\n",
        "\n",
        "my_function_2(\"Maria\") # Muda o nome default"
      ],
      "metadata": {
        "colab": {
          "base_uri": "https://localhost:8080/"
        },
        "id": "THjp-ux8mvpd",
        "outputId": "35f0de21-bf71-4ff6-d25b-16112a04a0b1"
      },
      "execution_count": 7,
      "outputs": [
        {
          "output_type": "stream",
          "name": "stdout",
          "text": [
            "Hello Junior from a function\n",
            "Hello Maria from a function\n"
          ]
        }
      ]
    },
    {
      "cell_type": "markdown",
      "source": [
        "## Funções com mais de um argumento"
      ],
      "metadata": {
        "id": "YeZuGD2cn-pa"
      }
    },
    {
      "cell_type": "code",
      "source": [
        "def my_function(lname, rname):\n",
        "  print(lname + \" e \" + rname + \" são casados\")\n",
        "\n",
        "my_function(\"Zé\", \"Maria\")\n"
      ],
      "metadata": {
        "colab": {
          "base_uri": "https://localhost:8080/"
        },
        "id": "Y3XCVxUan-a1",
        "outputId": "49d83296-02d4-4607-c005-f8e00226931a"
      },
      "execution_count": 13,
      "outputs": [
        {
          "output_type": "stream",
          "name": "stdout",
          "text": [
            "Zé e Maria são casados\n"
          ]
        }
      ]
    },
    {
      "cell_type": "markdown",
      "source": [
        "### ERRO"
      ],
      "metadata": {
        "id": "VcqPDXrFoQXL"
      }
    },
    {
      "cell_type": "code",
      "source": [
        "my_function(\"Zé\")"
      ],
      "metadata": {
        "colab": {
          "base_uri": "https://localhost:8080/",
          "height": 166
        },
        "id": "iQpk4nVKnbLN",
        "outputId": "760ce875-5c9b-4a93-b825-eaffdba1894a"
      },
      "execution_count": 14,
      "outputs": [
        {
          "output_type": "error",
          "ename": "TypeError",
          "evalue": "ignored",
          "traceback": [
            "\u001b[0;31m---------------------------------------------------------------------------\u001b[0m",
            "\u001b[0;31mTypeError\u001b[0m                                 Traceback (most recent call last)",
            "\u001b[0;32m<ipython-input-14-035a64fe579a>\u001b[0m in \u001b[0;36m<cell line: 1>\u001b[0;34m()\u001b[0m\n\u001b[0;32m----> 1\u001b[0;31m \u001b[0mmy_function\u001b[0m\u001b[0;34m(\u001b[0m\u001b[0;34m\"Zé\"\u001b[0m\u001b[0;34m)\u001b[0m\u001b[0;34m\u001b[0m\u001b[0;34m\u001b[0m\u001b[0m\n\u001b[0m",
            "\u001b[0;31mTypeError\u001b[0m: my_function() missing 1 required positional argument: 'rname'"
          ]
        }
      ]
    },
    {
      "cell_type": "markdown",
      "source": [
        "## Se houver o Default não gera erro"
      ],
      "metadata": {
        "id": "YAMGlUupox4y"
      }
    },
    {
      "cell_type": "code",
      "source": [
        "def my_function(lname = \"Zé\", rname = \"Maria\"):\n",
        "  print(lname + \" e \" + rname + \" são casados\")\n",
        "\n",
        "my_function(\"Zé\")\n"
      ],
      "metadata": {
        "colab": {
          "base_uri": "https://localhost:8080/"
        },
        "id": "ksyhuCsloUKK",
        "outputId": "89dccffa-e517-4f06-e54e-f510fe415760"
      },
      "execution_count": 19,
      "outputs": [
        {
          "output_type": "stream",
          "name": "stdout",
          "text": [
            "Zé e Maria são casados\n"
          ]
        }
      ]
    },
    {
      "cell_type": "code",
      "source": [
        "my_function(\"João\")\n",
        "my_function(\"João\", \"Solange\")"
      ],
      "metadata": {
        "colab": {
          "base_uri": "https://localhost:8080/"
        },
        "id": "VlKIvDEXoncO",
        "outputId": "318a43fc-da45-416e-b415-432466f82a23"
      },
      "execution_count": 21,
      "outputs": [
        {
          "output_type": "stream",
          "name": "stdout",
          "text": [
            "João e Maria são casados\n",
            "João e Solange são casados\n"
          ]
        }
      ]
    },
    {
      "cell_type": "markdown",
      "source": [
        "### Quer trocar só o segundo argumento ? -> Especifique"
      ],
      "metadata": {
        "id": "aaU303dbpIdF"
      }
    },
    {
      "cell_type": "code",
      "source": [
        "my_function(rname = \"João\")"
      ],
      "metadata": {
        "colab": {
          "base_uri": "https://localhost:8080/"
        },
        "id": "pTjT9HxQopHo",
        "outputId": "5d4f34e5-c7fa-44bf-88ab-dcdd565ce0bb"
      },
      "execution_count": 20,
      "outputs": [
        {
          "output_type": "stream",
          "name": "stdout",
          "text": [
            "Zé e João são casados\n"
          ]
        }
      ]
    },
    {
      "cell_type": "markdown",
      "source": [
        "## Passar uma lista como argumento"
      ],
      "metadata": {
        "id": "qz9g08-2qSYq"
      }
    },
    {
      "cell_type": "code",
      "source": [
        "def my_function(filosofos):\n",
        "  for x in filosofos:\n",
        "    print(x)\n",
        "\n",
        "filosofos = [\"Platão\", \"Aristóteles\", \"Sócrates\",\"Badin\"]\n",
        "\n",
        "my_function(filosofos)\n",
        "\n",
        "# pra quem não conhece o Badin https://www.youtube.com/@Badincolono"
      ],
      "metadata": {
        "colab": {
          "base_uri": "https://localhost:8080/"
        },
        "id": "9q06fcTSouR_",
        "outputId": "7570253a-0f71-4e98-aaf1-51f893428775"
      },
      "execution_count": 23,
      "outputs": [
        {
          "output_type": "stream",
          "name": "stdout",
          "text": [
            "Platão\n",
            "Aristóteles\n",
            "Sócrates\n",
            "Badin\n"
          ]
        }
      ]
    },
    {
      "cell_type": "markdown",
      "source": [
        "## O nome do argumento na função pode ser diferente do nome da chamada da função"
      ],
      "metadata": {
        "id": "bgU3Wyk5tvx-"
      }
    },
    {
      "cell_type": "code",
      "source": [
        "phil = [\"Platão\", \"Aristóteles\", \"Sócrates\",\"Badin\",\"Santo Fole\"]\n",
        "\n",
        "my_function(phil)\n",
        "\n",
        "# pra quem não conhece o Santo Fole https://www.instagram.com/santofole/"
      ],
      "metadata": {
        "colab": {
          "base_uri": "https://localhost:8080/"
        },
        "id": "8qT2Q_flqiv0",
        "outputId": "bfdd381c-1054-40f4-997e-e94b78b2b944"
      },
      "execution_count": 24,
      "outputs": [
        {
          "output_type": "stream",
          "name": "stdout",
          "text": [
            "Platão\n",
            "Aristóteles\n",
            "Sócrates\n",
            "Badin\n",
            "Santo Fole\n"
          ]
        }
      ]
    }
  ]
}