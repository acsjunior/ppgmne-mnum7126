{
 "cells": [
  {
   "cell_type": "code",
   "execution_count": 1,
   "id": "a746e294",
   "metadata": {},
   "outputs": [],
   "source": [
    "import pandas as pd\n",
    "import numpy as np"
   ]
  },
  {
   "cell_type": "code",
   "execution_count": 2,
   "id": "63ffdd0b",
   "metadata": {},
   "outputs": [
    {
     "data": {
      "text/plain": [
       "'2.0.1'"
      ]
     },
     "execution_count": 2,
     "metadata": {},
     "output_type": "execute_result"
    }
   ],
   "source": [
    "pd.__version__"
   ]
  },
  {
   "cell_type": "markdown",
   "id": "f7d678e9",
   "metadata": {},
   "source": [
    "## Tipos em Pandas"
   ]
  },
  {
   "cell_type": "code",
   "execution_count": 3,
   "id": "94e4832d",
   "metadata": {},
   "outputs": [
    {
     "data": {
      "text/plain": [
       "0         Maçã\n",
       "1       Banana\n",
       "2     Graviola\n",
       "3         Umbu\n",
       "4    Carambola\n",
       "5         Jaca\n",
       "dtype: object"
      ]
     },
     "execution_count": 3,
     "metadata": {},
     "output_type": "execute_result"
    }
   ],
   "source": [
    "frutas = [\"Maçã\", \"Banana\", \"Graviola\", \"Umbu\", \"Carambola\", \"Jaca\"]\n",
    "pd.Series(frutas)"
   ]
  },
  {
   "cell_type": "code",
   "execution_count": 5,
   "id": "59ad40c1",
   "metadata": {},
   "outputs": [
    {
     "data": {
      "text/plain": [
       "0     3\n",
       "1    12\n",
       "2    27\n",
       "3    30\n",
       "4    45\n",
       "5    59\n",
       "dtype: int64"
      ]
     },
     "execution_count": 5,
     "metadata": {},
     "output_type": "execute_result"
    }
   ],
   "source": [
    "megaSena = [3, 12, 27, 30, 45, 59]\n",
    "pd.Series(megaSena)"
   ]
  },
  {
   "cell_type": "code",
   "execution_count": 6,
   "id": "3f09f3d3",
   "metadata": {},
   "outputs": [
    {
     "data": {
      "text/plain": [
       "0     True\n",
       "1    False\n",
       "2     True\n",
       "3     True\n",
       "4     True\n",
       "5    False\n",
       "6    False\n",
       "dtype: bool"
      ]
     },
     "execution_count": 6,
     "metadata": {},
     "output_type": "execute_result"
    }
   ],
   "source": [
    "evento = [True, False, True, True, True, False, False]\n",
    "pd.Series(evento)"
   ]
  },
  {
   "cell_type": "code",
   "execution_count": 7,
   "id": "39e2a859",
   "metadata": {},
   "outputs": [],
   "source": [
    "volume = [12.3, 45, 23.6, 92.2,0]"
   ]
  },
  {
   "cell_type": "code",
   "execution_count": 8,
   "id": "01eeef08",
   "metadata": {},
   "outputs": [
    {
     "data": {
      "text/plain": [
       "0    12.3\n",
       "1    45.0\n",
       "2    23.6\n",
       "3    92.2\n",
       "4     0.0\n",
       "dtype: float64"
      ]
     },
     "execution_count": 8,
     "metadata": {},
     "output_type": "execute_result"
    }
   ],
   "source": [
    "pd.Series(volume)"
   ]
  },
  {
   "cell_type": "code",
   "execution_count": 11,
   "id": "62a11374",
   "metadata": {},
   "outputs": [
    {
     "data": {
      "text/plain": [
       "Athletico Paranaense    PR\n",
       "Flamengo                RJ\n",
       "São Paulo               SP\n",
       "dtype: object"
      ]
     },
     "execution_count": 11,
     "metadata": {},
     "output_type": "execute_result"
    }
   ],
   "source": [
    "time = {\n",
    "    \"Athletico Paranaense\": \"PR\",\n",
    "    \"Flamengo\": \"RJ\",\n",
    "    \"São Paulo\": \"SP\"\n",
    "}\n",
    "pd.Series(time)"
   ]
  },
  {
   "cell_type": "markdown",
   "id": "ce5d8f4f",
   "metadata": {},
   "source": [
    "## Métodos em Pandas"
   ]
  },
  {
   "cell_type": "code",
   "execution_count": 12,
   "id": "36e17bdc",
   "metadata": {},
   "outputs": [
    {
     "data": {
      "text/plain": [
       "'HELLO'"
      ]
     },
     "execution_count": 12,
     "metadata": {},
     "output_type": "execute_result"
    }
   ],
   "source": [
    "\"hello\".upper()"
   ]
  },
  {
   "cell_type": "code",
   "execution_count": 14,
   "id": "54813189",
   "metadata": {},
   "outputs": [
    {
     "data": {
      "text/plain": [
       "[1, 2, 3, 4]"
      ]
     },
     "execution_count": 14,
     "metadata": {},
     "output_type": "execute_result"
    }
   ],
   "source": [
    "values = [1,2,3]\n",
    "values.append(4)\n",
    "values"
   ]
  },
  {
   "cell_type": "code",
   "execution_count": 19,
   "id": "015bd566",
   "metadata": {},
   "outputs": [],
   "source": [
    "preços = pd.Series([1.99, 3.00, 5.31])"
   ]
  },
  {
   "cell_type": "code",
   "execution_count": 20,
   "id": "228f56d5",
   "metadata": {},
   "outputs": [
    {
     "data": {
      "text/plain": [
       "10.3"
      ]
     },
     "execution_count": 20,
     "metadata": {},
     "output_type": "execute_result"
    }
   ],
   "source": [
    "preços.sum()"
   ]
  },
  {
   "cell_type": "code",
   "execution_count": 21,
   "id": "478b21bf",
   "metadata": {},
   "outputs": [
    {
     "data": {
      "text/plain": [
       "3.4333333333333336"
      ]
     },
     "execution_count": 21,
     "metadata": {},
     "output_type": "execute_result"
    }
   ],
   "source": [
    "preços.mean()"
   ]
  },
  {
   "cell_type": "markdown",
   "id": "22c9249b",
   "metadata": {},
   "source": [
    "## Atributos da Série"
   ]
  },
  {
   "cell_type": "code",
   "execution_count": 23,
   "id": "42104c5c",
   "metadata": {
    "scrolled": true
   },
   "outputs": [
    {
     "data": {
      "text/plain": [
       "0    inteligente\n",
       "1          lindo\n",
       "2       charmoso\n",
       "3       brilante\n",
       "4        honesto\n",
       "5        modesto\n",
       "dtype: object"
      ]
     },
     "execution_count": 23,
     "metadata": {},
     "output_type": "execute_result"
    }
   ],
   "source": [
    "adjetivos = pd.Series([\"inteligente\", \"lindo\", \"charmoso\", \"brilante\", \"honesto\", \"modesto\"])\n",
    "adjetivos"
   ]
  },
  {
   "cell_type": "code",
   "execution_count": 24,
   "id": "48249c58",
   "metadata": {},
   "outputs": [
    {
     "data": {
      "text/plain": [
       "6"
      ]
     },
     "execution_count": 24,
     "metadata": {},
     "output_type": "execute_result"
    }
   ],
   "source": [
    "adjetivos.size"
   ]
  },
  {
   "cell_type": "code",
   "execution_count": 25,
   "id": "6db5f3eb",
   "metadata": {},
   "outputs": [
    {
     "data": {
      "text/plain": [
       "True"
      ]
     },
     "execution_count": 25,
     "metadata": {},
     "output_type": "execute_result"
    }
   ],
   "source": [
    "adjetivos.is_unique"
   ]
  },
  {
   "cell_type": "code",
   "execution_count": 27,
   "id": "4957991b",
   "metadata": {},
   "outputs": [
    {
     "data": {
      "text/plain": [
       "False"
      ]
     },
     "execution_count": 27,
     "metadata": {},
     "output_type": "execute_result"
    }
   ],
   "source": [
    "adjetivos = pd.Series([\"inteligente\", \"lindo\", \"charmoso\", \"brilante\", \"honesto\", \"modesto\", \"modesto\"])\n",
    "adjetivos.is_unique"
   ]
  },
  {
   "cell_type": "code",
   "execution_count": 28,
   "id": "4e77140e",
   "metadata": {},
   "outputs": [
    {
     "data": {
      "text/plain": [
       "(7,)"
      ]
     },
     "execution_count": 28,
     "metadata": {},
     "output_type": "execute_result"
    }
   ],
   "source": [
    "adjetivos.shape"
   ]
  },
  {
   "cell_type": "code",
   "execution_count": 29,
   "id": "02365c92",
   "metadata": {},
   "outputs": [
    {
     "data": {
      "text/plain": [
       "numpy.ndarray"
      ]
     },
     "execution_count": 29,
     "metadata": {},
     "output_type": "execute_result"
    }
   ],
   "source": [
    "type(adjetivos.values)"
   ]
  },
  {
   "cell_type": "code",
   "execution_count": 30,
   "id": "d23f66d4",
   "metadata": {},
   "outputs": [
    {
     "data": {
      "text/plain": [
       "RangeIndex(start=0, stop=7, step=1)"
      ]
     },
     "execution_count": 30,
     "metadata": {},
     "output_type": "execute_result"
    }
   ],
   "source": [
    "adjetivos.index"
   ]
  },
  {
   "cell_type": "code",
   "execution_count": 31,
   "id": "e6669577",
   "metadata": {},
   "outputs": [
    {
     "data": {
      "text/plain": [
       "dtype('O')"
      ]
     },
     "execution_count": 31,
     "metadata": {},
     "output_type": "execute_result"
    }
   ],
   "source": [
    "adjetivos.dtype"
   ]
  },
  {
   "cell_type": "markdown",
   "id": "6a96467f",
   "metadata": {},
   "source": [
    "## Index"
   ]
  },
  {
   "cell_type": "code",
   "execution_count": 34,
   "id": "939720c6",
   "metadata": {},
   "outputs": [],
   "source": [
    "frutas = [\"Maçã\", \"Banana\", \"Graviola\", \"Umbu\", \"Carambola\", \"Jaca\", \"Laranja\"]\n",
    "diasSemana = [\"Segunda-feira\",\"Terça-feira\",\"Quarta-feira\",\"Quinta-feira\",\"Sexta-feira\",\"Sabado\",\"Domingo\"]"
   ]
  },
  {
   "cell_type": "code",
   "execution_count": 35,
   "id": "40157ab2",
   "metadata": {},
   "outputs": [
    {
     "data": {
      "text/plain": [
       "Segunda-feira         Maçã\n",
       "Terça-feira         Banana\n",
       "Quarta-feira      Graviola\n",
       "Quinta-feira          Umbu\n",
       "Sexta-feira      Carambola\n",
       "Sabado                Jaca\n",
       "Domingo            Laranja\n",
       "dtype: object"
      ]
     },
     "execution_count": 35,
     "metadata": {},
     "output_type": "execute_result"
    }
   ],
   "source": [
    "pd.Series(frutas, diasSemana)"
   ]
  },
  {
   "cell_type": "code",
   "execution_count": 36,
   "id": "fc570371",
   "metadata": {},
   "outputs": [
    {
     "data": {
      "text/plain": [
       "Maçã         Segunda-feira\n",
       "Banana         Terça-feira\n",
       "Graviola      Quarta-feira\n",
       "Umbu          Quinta-feira\n",
       "Carambola      Sexta-feira\n",
       "Jaca                Sabado\n",
       "Laranja            Domingo\n",
       "dtype: object"
      ]
     },
     "execution_count": 36,
     "metadata": {},
     "output_type": "execute_result"
    }
   ],
   "source": [
    "pd.Series(diasSemana, frutas)"
   ]
  },
  {
   "cell_type": "code",
   "execution_count": 37,
   "id": "ff38fd1a",
   "metadata": {},
   "outputs": [
    {
     "data": {
      "text/plain": [
       "Segunda-feira         Maçã\n",
       "Terça-feira         Banana\n",
       "Quarta-feira      Graviola\n",
       "Quinta-feira          Umbu\n",
       "Sexta-feira      Carambola\n",
       "Sabado                Jaca\n",
       "Domingo            Laranja\n",
       "dtype: object"
      ]
     },
     "execution_count": 37,
     "metadata": {},
     "output_type": "execute_result"
    }
   ],
   "source": [
    "pd.Series(index = diasSemana, data = frutas)"
   ]
  }
 ],
 "metadata": {
  "kernelspec": {
   "display_name": "Python 3 (ipykernel)",
   "language": "python",
   "name": "python3"
  },
  "language_info": {
   "codemirror_mode": {
    "name": "ipython",
    "version": 3
   },
   "file_extension": ".py",
   "mimetype": "text/x-python",
   "name": "python",
   "nbconvert_exporter": "python",
   "pygments_lexer": "ipython3",
   "version": "3.10.10"
  }
 },
 "nbformat": 4,
 "nbformat_minor": 5
}
